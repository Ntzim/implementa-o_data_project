{
 "cells": [
  {
   "cell_type": "code",
   "execution_count": 1,
   "metadata": {},
   "outputs": [],
   "source": [
    "from webdriver_manager.chrome import ChromeDriverManager\n",
    "from selenium import webdriver\n",
    "from selenium.webdriver.common.by import By\n",
    "from selenium.webdriver.support.ui import WebDriverWait\n",
    "from selenium.webdriver.support import expected_conditions as EC\n",
    "from selenium.webdriver.chrome.service import Service"
   ]
  },
  {
   "cell_type": "code",
   "execution_count": 2,
   "metadata": {},
   "outputs": [
    {
     "name": "stderr",
     "output_type": "stream",
     "text": [
      "[WDM] - Downloading: 100%|██████████| 6.81M/6.81M [00:00<00:00, 10.9MB/s]\n"
     ]
    }
   ],
   "source": [
    "navegador = webdriver.Chrome(service=Service(ChromeDriverManager().install()))"
   ]
  },
  {
   "cell_type": "code",
   "execution_count": 3,
   "metadata": {},
   "outputs": [],
   "source": [
    "#Acessando portal da transparência\n",
    "navegador.get('http://www.ssp.sp.gov.br/transparenciassp/')"
   ]
  },
  {
   "cell_type": "code",
   "execution_count": null,
   "metadata": {},
   "outputs": [],
   "source": [
    "#selecionando consultas até 2022\n",
    "navegador.find_element(By.XPATH, '//*[@id=\"frmMain\"]/div[4]/div/div[3]/div[1]/div/div[2]/div[3]/a').click()"
   ]
  },
  {
   "cell_type": "code",
   "execution_count": 6,
   "metadata": {},
   "outputs": [],
   "source": [
    "#selecionando roubo de veiculos\n",
    "navegador.find_element(By.XPATH, '//*[@id=\"cphBody_btnRouboVeiculo\"]').click()"
   ]
  },
  {
   "cell_type": "code",
   "execution_count": 7,
   "metadata": {},
   "outputs": [],
   "source": [
    "#selecionando ano 2022\n",
    "navegador.find_element(By.XPATH,'//*[@id=\"cphBody_lkAno22\"]').click()"
   ]
  },
  {
   "cell_type": "code",
   "execution_count": 8,
   "metadata": {},
   "outputs": [],
   "source": [
    "#Selecionando o mês de Janeiro e exportando oss dados\n",
    "navegador.find_element(By.ID,'cphBody_lkMes1').click()\n",
    "navegador.find_element(By.ID,'cphBody_ExportarBOLink').click()"
   ]
  },
  {
   "cell_type": "code",
   "execution_count": 9,
   "metadata": {},
   "outputs": [],
   "source": [
    "#Selecionando o mês de Fevereiro e exportando oss dados\n",
    "navegador.find_element(By.ID,'cphBody_lkMes2').click()\n",
    "navegador.find_element(By.ID,'cphBody_ExportarBOLink').click()"
   ]
  },
  {
   "cell_type": "code",
   "execution_count": 10,
   "metadata": {},
   "outputs": [],
   "source": [
    "#Selecionando o mês de Março e exportando oss dados\n",
    "navegador.find_element(By.ID,'cphBody_lkMes3').click()\n",
    "navegador.find_element(By.ID,'cphBody_ExportarBOLink').click()"
   ]
  }
 ],
 "metadata": {
  "kernelspec": {
   "display_name": "Python 3",
   "language": "python",
   "name": "python3"
  },
  "language_info": {
   "codemirror_mode": {
    "name": "ipython",
    "version": 3
   },
   "file_extension": ".py",
   "mimetype": "text/x-python",
   "name": "python",
   "nbconvert_exporter": "python",
   "pygments_lexer": "ipython3",
   "version": "3.10.11"
  },
  "orig_nbformat": 4
 },
 "nbformat": 4,
 "nbformat_minor": 2
}
